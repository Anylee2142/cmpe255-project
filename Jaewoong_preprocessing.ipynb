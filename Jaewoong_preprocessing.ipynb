{
 "cells": [
  {
   "cell_type": "code",
   "execution_count": 1,
   "id": "4fd680de-5454-449b-a76a-f7896c901834",
   "metadata": {},
   "outputs": [],
   "source": [
    "import pandas as pd\n",
    "import numpy as np\n",
    "from sklearn.impute import SimpleImputer\n",
    "from sklearn.experimental import enable_iterative_imputer\n",
    "from sklearn.impute import IterativeImputer"
   ]
  },
  {
   "cell_type": "code",
   "execution_count": 85,
   "id": "360563cf-bc12-48f8-816c-87159d0cdc19",
   "metadata": {},
   "outputs": [],
   "source": [
    "# https://stats.stackexchange.com/questions/267078/why-is-skewed-data-not-preferred-for-modelling\n",
    "# https://stats.stackexchange.com/questions/299154/the-benefit-of-unskewing-skewed-data"
   ]
  },
  {
   "cell_type": "markdown",
   "id": "82e64e78-d414-4824-8227-03e35e2864cc",
   "metadata": {},
   "source": [
    "# imputation\n",
    "- Mice, Mean, or Drop\n",
    "\n",
    "# discretization\n",
    "- Supervised or Unsupervised\n",
    "\n",
    "# target\n",
    "- under or oversampling"
   ]
  },
  {
   "cell_type": "code",
   "execution_count": 32,
   "id": "bc322368-6ae4-4aea-9a7d-6a6a8661a6cf",
   "metadata": {},
   "outputs": [],
   "source": [
    "df = pd.read_csv('data/TrainingWiDS2021.csv', index_col=[0])"
   ]
  },
  {
   "cell_type": "code",
   "execution_count": 3,
   "id": "953b7f81-504f-4994-9caa-428308e13299",
   "metadata": {},
   "outputs": [
    {
     "data": {
      "text/html": [
       "<div>\n",
       "<style scoped>\n",
       "    .dataframe tbody tr th:only-of-type {\n",
       "        vertical-align: middle;\n",
       "    }\n",
       "\n",
       "    .dataframe tbody tr th {\n",
       "        vertical-align: top;\n",
       "    }\n",
       "\n",
       "    .dataframe thead th {\n",
       "        text-align: right;\n",
       "    }\n",
       "</style>\n",
       "<table border=\"1\" class=\"dataframe\">\n",
       "  <thead>\n",
       "    <tr style=\"text-align: right;\">\n",
       "      <th></th>\n",
       "      <th>encounter_id</th>\n",
       "      <th>hospital_id</th>\n",
       "      <th>age</th>\n",
       "      <th>bmi</th>\n",
       "      <th>elective_surgery</th>\n",
       "      <th>ethnicity</th>\n",
       "      <th>gender</th>\n",
       "      <th>height</th>\n",
       "      <th>hospital_admit_source</th>\n",
       "      <th>icu_admit_source</th>\n",
       "      <th>...</th>\n",
       "      <th>h1_pao2fio2ratio_max</th>\n",
       "      <th>h1_pao2fio2ratio_min</th>\n",
       "      <th>aids</th>\n",
       "      <th>cirrhosis</th>\n",
       "      <th>hepatic_failure</th>\n",
       "      <th>immunosuppression</th>\n",
       "      <th>leukemia</th>\n",
       "      <th>lymphoma</th>\n",
       "      <th>solid_tumor_with_metastasis</th>\n",
       "      <th>diabetes_mellitus</th>\n",
       "    </tr>\n",
       "  </thead>\n",
       "  <tbody>\n",
       "    <tr>\n",
       "      <th>1</th>\n",
       "      <td>214826</td>\n",
       "      <td>118</td>\n",
       "      <td>68.0</td>\n",
       "      <td>22.732803</td>\n",
       "      <td>0</td>\n",
       "      <td>Caucasian</td>\n",
       "      <td>M</td>\n",
       "      <td>180.3</td>\n",
       "      <td>Floor</td>\n",
       "      <td>Floor</td>\n",
       "      <td>...</td>\n",
       "      <td>NaN</td>\n",
       "      <td>NaN</td>\n",
       "      <td>0</td>\n",
       "      <td>0</td>\n",
       "      <td>0</td>\n",
       "      <td>0</td>\n",
       "      <td>0</td>\n",
       "      <td>0</td>\n",
       "      <td>0</td>\n",
       "      <td>1</td>\n",
       "    </tr>\n",
       "    <tr>\n",
       "      <th>2</th>\n",
       "      <td>246060</td>\n",
       "      <td>81</td>\n",
       "      <td>77.0</td>\n",
       "      <td>27.421875</td>\n",
       "      <td>0</td>\n",
       "      <td>Caucasian</td>\n",
       "      <td>F</td>\n",
       "      <td>160.0</td>\n",
       "      <td>Floor</td>\n",
       "      <td>Floor</td>\n",
       "      <td>...</td>\n",
       "      <td>51.0</td>\n",
       "      <td>51.0</td>\n",
       "      <td>0</td>\n",
       "      <td>0</td>\n",
       "      <td>0</td>\n",
       "      <td>0</td>\n",
       "      <td>0</td>\n",
       "      <td>0</td>\n",
       "      <td>0</td>\n",
       "      <td>1</td>\n",
       "    </tr>\n",
       "    <tr>\n",
       "      <th>3</th>\n",
       "      <td>276985</td>\n",
       "      <td>118</td>\n",
       "      <td>25.0</td>\n",
       "      <td>31.952749</td>\n",
       "      <td>0</td>\n",
       "      <td>Caucasian</td>\n",
       "      <td>F</td>\n",
       "      <td>172.7</td>\n",
       "      <td>Emergency Department</td>\n",
       "      <td>Accident &amp; Emergency</td>\n",
       "      <td>...</td>\n",
       "      <td>NaN</td>\n",
       "      <td>NaN</td>\n",
       "      <td>0</td>\n",
       "      <td>0</td>\n",
       "      <td>0</td>\n",
       "      <td>0</td>\n",
       "      <td>0</td>\n",
       "      <td>0</td>\n",
       "      <td>0</td>\n",
       "      <td>0</td>\n",
       "    </tr>\n",
       "    <tr>\n",
       "      <th>4</th>\n",
       "      <td>262220</td>\n",
       "      <td>118</td>\n",
       "      <td>81.0</td>\n",
       "      <td>22.635548</td>\n",
       "      <td>1</td>\n",
       "      <td>Caucasian</td>\n",
       "      <td>F</td>\n",
       "      <td>165.1</td>\n",
       "      <td>Operating Room</td>\n",
       "      <td>Operating Room / Recovery</td>\n",
       "      <td>...</td>\n",
       "      <td>337.0</td>\n",
       "      <td>337.0</td>\n",
       "      <td>0</td>\n",
       "      <td>0</td>\n",
       "      <td>0</td>\n",
       "      <td>0</td>\n",
       "      <td>0</td>\n",
       "      <td>0</td>\n",
       "      <td>0</td>\n",
       "      <td>0</td>\n",
       "    </tr>\n",
       "    <tr>\n",
       "      <th>5</th>\n",
       "      <td>201746</td>\n",
       "      <td>33</td>\n",
       "      <td>19.0</td>\n",
       "      <td>NaN</td>\n",
       "      <td>0</td>\n",
       "      <td>Caucasian</td>\n",
       "      <td>M</td>\n",
       "      <td>188.0</td>\n",
       "      <td>NaN</td>\n",
       "      <td>Accident &amp; Emergency</td>\n",
       "      <td>...</td>\n",
       "      <td>NaN</td>\n",
       "      <td>NaN</td>\n",
       "      <td>0</td>\n",
       "      <td>0</td>\n",
       "      <td>0</td>\n",
       "      <td>0</td>\n",
       "      <td>0</td>\n",
       "      <td>0</td>\n",
       "      <td>0</td>\n",
       "      <td>0</td>\n",
       "    </tr>\n",
       "  </tbody>\n",
       "</table>\n",
       "<p>5 rows × 180 columns</p>\n",
       "</div>"
      ],
      "text/plain": [
       "   encounter_id  hospital_id   age        bmi  elective_surgery  ethnicity  \\\n",
       "1        214826          118  68.0  22.732803                 0  Caucasian   \n",
       "2        246060           81  77.0  27.421875                 0  Caucasian   \n",
       "3        276985          118  25.0  31.952749                 0  Caucasian   \n",
       "4        262220          118  81.0  22.635548                 1  Caucasian   \n",
       "5        201746           33  19.0        NaN                 0  Caucasian   \n",
       "\n",
       "  gender  height hospital_admit_source           icu_admit_source  \\\n",
       "1      M   180.3                 Floor                      Floor   \n",
       "2      F   160.0                 Floor                      Floor   \n",
       "3      F   172.7  Emergency Department       Accident & Emergency   \n",
       "4      F   165.1        Operating Room  Operating Room / Recovery   \n",
       "5      M   188.0                   NaN       Accident & Emergency   \n",
       "\n",
       "         ...          h1_pao2fio2ratio_max h1_pao2fio2ratio_min aids  \\\n",
       "1        ...                           NaN                  NaN    0   \n",
       "2        ...                          51.0                 51.0    0   \n",
       "3        ...                           NaN                  NaN    0   \n",
       "4        ...                         337.0                337.0    0   \n",
       "5        ...                           NaN                  NaN    0   \n",
       "\n",
       "   cirrhosis  hepatic_failure  immunosuppression  leukemia  lymphoma  \\\n",
       "1          0                0                  0         0         0   \n",
       "2          0                0                  0         0         0   \n",
       "3          0                0                  0         0         0   \n",
       "4          0                0                  0         0         0   \n",
       "5          0                0                  0         0         0   \n",
       "\n",
       "   solid_tumor_with_metastasis  diabetes_mellitus  \n",
       "1                            0                  1  \n",
       "2                            0                  1  \n",
       "3                            0                  0  \n",
       "4                            0                  0  \n",
       "5                            0                  0  \n",
       "\n",
       "[5 rows x 180 columns]"
      ]
     },
     "execution_count": 3,
     "metadata": {},
     "output_type": "execute_result"
    }
   ],
   "source": [
    "df.head()"
   ]
  },
  {
   "cell_type": "code",
   "execution_count": 4,
   "id": "8073d93a-9b70-4176-9848-39e98f524fee",
   "metadata": {},
   "outputs": [
    {
     "data": {
      "text/plain": [
       "(130157, 180)"
      ]
     },
     "execution_count": 4,
     "metadata": {},
     "output_type": "execute_result"
    }
   ],
   "source": [
    "df.shape"
   ]
  },
  {
   "cell_type": "code",
   "execution_count": 5,
   "id": "fd902579-ea33-4b9d-8b7c-c935a9c9269c",
   "metadata": {},
   "outputs": [],
   "source": [
    "test_df = pd.read_csv('data/UnlabeledWiDS2021.csv', index_col=[0])"
   ]
  },
  {
   "cell_type": "code",
   "execution_count": 6,
   "id": "c1ea3d68-21db-4c78-b607-025b99b5e3f9",
   "metadata": {},
   "outputs": [
    {
     "data": {
      "text/html": [
       "<div>\n",
       "<style scoped>\n",
       "    .dataframe tbody tr th:only-of-type {\n",
       "        vertical-align: middle;\n",
       "    }\n",
       "\n",
       "    .dataframe tbody tr th {\n",
       "        vertical-align: top;\n",
       "    }\n",
       "\n",
       "    .dataframe thead th {\n",
       "        text-align: right;\n",
       "    }\n",
       "</style>\n",
       "<table border=\"1\" class=\"dataframe\">\n",
       "  <thead>\n",
       "    <tr style=\"text-align: right;\">\n",
       "      <th></th>\n",
       "      <th>encounter_id</th>\n",
       "      <th>hospital_id</th>\n",
       "      <th>age</th>\n",
       "      <th>bmi</th>\n",
       "      <th>elective_surgery</th>\n",
       "      <th>ethnicity</th>\n",
       "      <th>gender</th>\n",
       "      <th>height</th>\n",
       "      <th>hospital_admit_source</th>\n",
       "      <th>icu_admit_source</th>\n",
       "      <th>...</th>\n",
       "      <th>h1_arterial_po2_min</th>\n",
       "      <th>h1_pao2fio2ratio_max</th>\n",
       "      <th>h1_pao2fio2ratio_min</th>\n",
       "      <th>aids</th>\n",
       "      <th>cirrhosis</th>\n",
       "      <th>hepatic_failure</th>\n",
       "      <th>immunosuppression</th>\n",
       "      <th>leukemia</th>\n",
       "      <th>lymphoma</th>\n",
       "      <th>solid_tumor_with_metastasis</th>\n",
       "    </tr>\n",
       "  </thead>\n",
       "  <tbody>\n",
       "    <tr>\n",
       "      <th>1</th>\n",
       "      <td>144740</td>\n",
       "      <td>10141</td>\n",
       "      <td>72</td>\n",
       "      <td>NaN</td>\n",
       "      <td>0</td>\n",
       "      <td>Caucasian</td>\n",
       "      <td>F</td>\n",
       "      <td>152.4</td>\n",
       "      <td>Floor</td>\n",
       "      <td>Accident &amp; Emergency</td>\n",
       "      <td>...</td>\n",
       "      <td>NaN</td>\n",
       "      <td>NaN</td>\n",
       "      <td>NaN</td>\n",
       "      <td>0</td>\n",
       "      <td>0</td>\n",
       "      <td>0</td>\n",
       "      <td>0</td>\n",
       "      <td>0</td>\n",
       "      <td>0</td>\n",
       "      <td>0</td>\n",
       "    </tr>\n",
       "    <tr>\n",
       "      <th>2</th>\n",
       "      <td>141990</td>\n",
       "      <td>10141</td>\n",
       "      <td>86</td>\n",
       "      <td>NaN</td>\n",
       "      <td>0</td>\n",
       "      <td>Caucasian</td>\n",
       "      <td>F</td>\n",
       "      <td>175.3</td>\n",
       "      <td>Emergency Department</td>\n",
       "      <td>Accident &amp; Emergency</td>\n",
       "      <td>...</td>\n",
       "      <td>NaN</td>\n",
       "      <td>NaN</td>\n",
       "      <td>NaN</td>\n",
       "      <td>0</td>\n",
       "      <td>0</td>\n",
       "      <td>0</td>\n",
       "      <td>0</td>\n",
       "      <td>0</td>\n",
       "      <td>0</td>\n",
       "      <td>0</td>\n",
       "    </tr>\n",
       "    <tr>\n",
       "      <th>3</th>\n",
       "      <td>142038</td>\n",
       "      <td>10141</td>\n",
       "      <td>72</td>\n",
       "      <td>NaN</td>\n",
       "      <td>0</td>\n",
       "      <td>Caucasian</td>\n",
       "      <td>F</td>\n",
       "      <td>162.6</td>\n",
       "      <td>Floor</td>\n",
       "      <td>Floor</td>\n",
       "      <td>...</td>\n",
       "      <td>NaN</td>\n",
       "      <td>NaN</td>\n",
       "      <td>NaN</td>\n",
       "      <td>0</td>\n",
       "      <td>0</td>\n",
       "      <td>0</td>\n",
       "      <td>0</td>\n",
       "      <td>0</td>\n",
       "      <td>0</td>\n",
       "      <td>0</td>\n",
       "    </tr>\n",
       "    <tr>\n",
       "      <th>4</th>\n",
       "      <td>138628</td>\n",
       "      <td>10141</td>\n",
       "      <td>66</td>\n",
       "      <td>NaN</td>\n",
       "      <td>0</td>\n",
       "      <td>Caucasian</td>\n",
       "      <td>M</td>\n",
       "      <td>177.8</td>\n",
       "      <td>Floor</td>\n",
       "      <td>Floor</td>\n",
       "      <td>...</td>\n",
       "      <td>NaN</td>\n",
       "      <td>NaN</td>\n",
       "      <td>NaN</td>\n",
       "      <td>0</td>\n",
       "      <td>0</td>\n",
       "      <td>0</td>\n",
       "      <td>0</td>\n",
       "      <td>0</td>\n",
       "      <td>0</td>\n",
       "      <td>0</td>\n",
       "    </tr>\n",
       "    <tr>\n",
       "      <th>5</th>\n",
       "      <td>141682</td>\n",
       "      <td>10141</td>\n",
       "      <td>89</td>\n",
       "      <td>NaN</td>\n",
       "      <td>0</td>\n",
       "      <td>Caucasian</td>\n",
       "      <td>M</td>\n",
       "      <td>170.2</td>\n",
       "      <td>Direct Admit</td>\n",
       "      <td>Accident &amp; Emergency</td>\n",
       "      <td>...</td>\n",
       "      <td>NaN</td>\n",
       "      <td>NaN</td>\n",
       "      <td>NaN</td>\n",
       "      <td>0</td>\n",
       "      <td>0</td>\n",
       "      <td>0</td>\n",
       "      <td>0</td>\n",
       "      <td>0</td>\n",
       "      <td>0</td>\n",
       "      <td>0</td>\n",
       "    </tr>\n",
       "  </tbody>\n",
       "</table>\n",
       "<p>5 rows × 179 columns</p>\n",
       "</div>"
      ],
      "text/plain": [
       "   encounter_id  hospital_id  age  bmi  elective_surgery  ethnicity gender  \\\n",
       "1        144740        10141   72  NaN                 0  Caucasian      F   \n",
       "2        141990        10141   86  NaN                 0  Caucasian      F   \n",
       "3        142038        10141   72  NaN                 0  Caucasian      F   \n",
       "4        138628        10141   66  NaN                 0  Caucasian      M   \n",
       "5        141682        10141   89  NaN                 0  Caucasian      M   \n",
       "\n",
       "   height hospital_admit_source      icu_admit_source  \\\n",
       "1   152.4                 Floor  Accident & Emergency   \n",
       "2   175.3  Emergency Department  Accident & Emergency   \n",
       "3   162.6                 Floor                 Floor   \n",
       "4   177.8                 Floor                 Floor   \n",
       "5   170.2          Direct Admit  Accident & Emergency   \n",
       "\n",
       "              ...               h1_arterial_po2_min h1_pao2fio2ratio_max  \\\n",
       "1             ...                               NaN                  NaN   \n",
       "2             ...                               NaN                  NaN   \n",
       "3             ...                               NaN                  NaN   \n",
       "4             ...                               NaN                  NaN   \n",
       "5             ...                               NaN                  NaN   \n",
       "\n",
       "  h1_pao2fio2ratio_min  aids  cirrhosis  hepatic_failure  immunosuppression  \\\n",
       "1                  NaN     0          0                0                  0   \n",
       "2                  NaN     0          0                0                  0   \n",
       "3                  NaN     0          0                0                  0   \n",
       "4                  NaN     0          0                0                  0   \n",
       "5                  NaN     0          0                0                  0   \n",
       "\n",
       "   leukemia  lymphoma  solid_tumor_with_metastasis  \n",
       "1         0         0                            0  \n",
       "2         0         0                            0  \n",
       "3         0         0                            0  \n",
       "4         0         0                            0  \n",
       "5         0         0                            0  \n",
       "\n",
       "[5 rows x 179 columns]"
      ]
     },
     "execution_count": 6,
     "metadata": {},
     "output_type": "execute_result"
    }
   ],
   "source": [
    "test_df.head()"
   ]
  },
  {
   "cell_type": "code",
   "execution_count": 7,
   "id": "e4b0cf3d-fb8a-4ac0-a9b8-ee78456d19ac",
   "metadata": {},
   "outputs": [
    {
     "data": {
      "text/plain": [
       "{'diabetes_mellitus'}"
      ]
     },
     "execution_count": 7,
     "metadata": {},
     "output_type": "execute_result"
    }
   ],
   "source": [
    "set(df.columns) - set(test_df.columns)"
   ]
  },
  {
   "cell_type": "code",
   "execution_count": 33,
   "id": "97e82b14-ca82-44eb-90ca-cc441c3ade98",
   "metadata": {},
   "outputs": [],
   "source": [
    "target_name = \"diabetes_mellitus\""
   ]
  },
  {
   "cell_type": "code",
   "execution_count": 45,
   "id": "5c8a6bf0-cba1-4bf2-8b1b-4890e15f98b6",
   "metadata": {},
   "outputs": [
    {
     "data": {
      "text/plain": [
       "0    0.783715\n",
       "1    0.216285\n",
       "Name: diabetes_mellitus, dtype: float64"
      ]
     },
     "execution_count": 45,
     "metadata": {},
     "output_type": "execute_result"
    }
   ],
   "source": [
    "df[target_name].value_counts() / df.shape[0]"
   ]
  },
  {
   "cell_type": "code",
   "execution_count": 9,
   "id": "98fc9511-28a3-43b1-8ec1-b44b4961d0f8",
   "metadata": {},
   "outputs": [
    {
     "data": {
      "text/plain": [
       "(10234, 179)"
      ]
     },
     "execution_count": 9,
     "metadata": {},
     "output_type": "execute_result"
    }
   ],
   "source": [
    "test_df.shape"
   ]
  },
  {
   "cell_type": "code",
   "execution_count": 36,
   "id": "1ac267c2-7e27-44af-89ea-8288f3f7fc65",
   "metadata": {},
   "outputs": [],
   "source": [
    "df = pd.concat([df.iloc[:, 90:135], df[target_name] ],axis=1)"
   ]
  },
  {
   "cell_type": "code",
   "execution_count": 38,
   "id": "4e581b98-9487-4912-a6c4-5bae4c4641a5",
   "metadata": {},
   "outputs": [
    {
     "data": {
      "text/plain": [
       "(130157, 46)"
      ]
     },
     "execution_count": 38,
     "metadata": {},
     "output_type": "execute_result"
    }
   ],
   "source": [
    "df.shape"
   ]
  },
  {
   "cell_type": "code",
   "execution_count": 39,
   "id": "16d04c3c-f513-43ec-b67a-1743ac4d986c",
   "metadata": {},
   "outputs": [
    {
     "data": {
      "text/html": [
       "<div>\n",
       "<style scoped>\n",
       "    .dataframe tbody tr th:only-of-type {\n",
       "        vertical-align: middle;\n",
       "    }\n",
       "\n",
       "    .dataframe tbody tr th {\n",
       "        vertical-align: top;\n",
       "    }\n",
       "\n",
       "    .dataframe thead th {\n",
       "        text-align: right;\n",
       "    }\n",
       "</style>\n",
       "<table border=\"1\" class=\"dataframe\">\n",
       "  <thead>\n",
       "    <tr style=\"text-align: right;\">\n",
       "      <th></th>\n",
       "      <th>h1_sysbp_max</th>\n",
       "      <th>h1_sysbp_min</th>\n",
       "      <th>h1_sysbp_noninvasive_max</th>\n",
       "      <th>h1_sysbp_noninvasive_min</th>\n",
       "      <th>h1_temp_max</th>\n",
       "      <th>h1_temp_min</th>\n",
       "      <th>d1_albumin_max</th>\n",
       "      <th>d1_albumin_min</th>\n",
       "      <th>d1_bilirubin_max</th>\n",
       "      <th>d1_bilirubin_min</th>\n",
       "      <th>...</th>\n",
       "      <th>h1_albumin_max</th>\n",
       "      <th>h1_albumin_min</th>\n",
       "      <th>h1_bilirubin_max</th>\n",
       "      <th>h1_bilirubin_min</th>\n",
       "      <th>h1_bun_max</th>\n",
       "      <th>h1_bun_min</th>\n",
       "      <th>h1_calcium_max</th>\n",
       "      <th>h1_calcium_min</th>\n",
       "      <th>h1_creatinine_max</th>\n",
       "      <th>diabetes_mellitus</th>\n",
       "    </tr>\n",
       "  </thead>\n",
       "  <tbody>\n",
       "    <tr>\n",
       "      <th>1</th>\n",
       "      <td>131.0</td>\n",
       "      <td>115.0</td>\n",
       "      <td>131.0</td>\n",
       "      <td>115.0</td>\n",
       "      <td>39.5</td>\n",
       "      <td>37.5</td>\n",
       "      <td>2.3</td>\n",
       "      <td>2.3</td>\n",
       "      <td>0.4</td>\n",
       "      <td>0.4</td>\n",
       "      <td>...</td>\n",
       "      <td>NaN</td>\n",
       "      <td>NaN</td>\n",
       "      <td>NaN</td>\n",
       "      <td>NaN</td>\n",
       "      <td>NaN</td>\n",
       "      <td>NaN</td>\n",
       "      <td>NaN</td>\n",
       "      <td>NaN</td>\n",
       "      <td>NaN</td>\n",
       "      <td>1</td>\n",
       "    </tr>\n",
       "    <tr>\n",
       "      <th>2</th>\n",
       "      <td>95.0</td>\n",
       "      <td>71.0</td>\n",
       "      <td>95.0</td>\n",
       "      <td>71.0</td>\n",
       "      <td>36.3</td>\n",
       "      <td>36.3</td>\n",
       "      <td>1.6</td>\n",
       "      <td>1.6</td>\n",
       "      <td>0.5</td>\n",
       "      <td>0.5</td>\n",
       "      <td>...</td>\n",
       "      <td>NaN</td>\n",
       "      <td>NaN</td>\n",
       "      <td>NaN</td>\n",
       "      <td>NaN</td>\n",
       "      <td>9.0</td>\n",
       "      <td>9.0</td>\n",
       "      <td>8.6</td>\n",
       "      <td>8.6</td>\n",
       "      <td>0.56</td>\n",
       "      <td>1</td>\n",
       "    </tr>\n",
       "    <tr>\n",
       "      <th>3</th>\n",
       "      <td>148.0</td>\n",
       "      <td>124.0</td>\n",
       "      <td>148.0</td>\n",
       "      <td>124.0</td>\n",
       "      <td>36.7</td>\n",
       "      <td>36.7</td>\n",
       "      <td>NaN</td>\n",
       "      <td>NaN</td>\n",
       "      <td>NaN</td>\n",
       "      <td>NaN</td>\n",
       "      <td>...</td>\n",
       "      <td>NaN</td>\n",
       "      <td>NaN</td>\n",
       "      <td>NaN</td>\n",
       "      <td>NaN</td>\n",
       "      <td>NaN</td>\n",
       "      <td>NaN</td>\n",
       "      <td>NaN</td>\n",
       "      <td>NaN</td>\n",
       "      <td>NaN</td>\n",
       "      <td>0</td>\n",
       "    </tr>\n",
       "    <tr>\n",
       "      <th>4</th>\n",
       "      <td>136.0</td>\n",
       "      <td>106.0</td>\n",
       "      <td>NaN</td>\n",
       "      <td>NaN</td>\n",
       "      <td>35.6</td>\n",
       "      <td>34.8</td>\n",
       "      <td>NaN</td>\n",
       "      <td>NaN</td>\n",
       "      <td>NaN</td>\n",
       "      <td>NaN</td>\n",
       "      <td>...</td>\n",
       "      <td>NaN</td>\n",
       "      <td>NaN</td>\n",
       "      <td>NaN</td>\n",
       "      <td>NaN</td>\n",
       "      <td>NaN</td>\n",
       "      <td>NaN</td>\n",
       "      <td>NaN</td>\n",
       "      <td>NaN</td>\n",
       "      <td>NaN</td>\n",
       "      <td>0</td>\n",
       "    </tr>\n",
       "    <tr>\n",
       "      <th>5</th>\n",
       "      <td>130.0</td>\n",
       "      <td>120.0</td>\n",
       "      <td>130.0</td>\n",
       "      <td>120.0</td>\n",
       "      <td>NaN</td>\n",
       "      <td>NaN</td>\n",
       "      <td>NaN</td>\n",
       "      <td>NaN</td>\n",
       "      <td>NaN</td>\n",
       "      <td>NaN</td>\n",
       "      <td>...</td>\n",
       "      <td>NaN</td>\n",
       "      <td>NaN</td>\n",
       "      <td>NaN</td>\n",
       "      <td>NaN</td>\n",
       "      <td>NaN</td>\n",
       "      <td>NaN</td>\n",
       "      <td>NaN</td>\n",
       "      <td>NaN</td>\n",
       "      <td>NaN</td>\n",
       "      <td>0</td>\n",
       "    </tr>\n",
       "  </tbody>\n",
       "</table>\n",
       "<p>5 rows × 46 columns</p>\n",
       "</div>"
      ],
      "text/plain": [
       "   h1_sysbp_max  h1_sysbp_min  h1_sysbp_noninvasive_max  \\\n",
       "1         131.0         115.0                     131.0   \n",
       "2          95.0          71.0                      95.0   \n",
       "3         148.0         124.0                     148.0   \n",
       "4         136.0         106.0                       NaN   \n",
       "5         130.0         120.0                     130.0   \n",
       "\n",
       "   h1_sysbp_noninvasive_min  h1_temp_max  h1_temp_min  d1_albumin_max  \\\n",
       "1                     115.0         39.5         37.5             2.3   \n",
       "2                      71.0         36.3         36.3             1.6   \n",
       "3                     124.0         36.7         36.7             NaN   \n",
       "4                       NaN         35.6         34.8             NaN   \n",
       "5                     120.0          NaN          NaN             NaN   \n",
       "\n",
       "   d1_albumin_min  d1_bilirubin_max  d1_bilirubin_min        ...          \\\n",
       "1             2.3               0.4               0.4        ...           \n",
       "2             1.6               0.5               0.5        ...           \n",
       "3             NaN               NaN               NaN        ...           \n",
       "4             NaN               NaN               NaN        ...           \n",
       "5             NaN               NaN               NaN        ...           \n",
       "\n",
       "   h1_albumin_max  h1_albumin_min  h1_bilirubin_max  h1_bilirubin_min  \\\n",
       "1             NaN             NaN               NaN               NaN   \n",
       "2             NaN             NaN               NaN               NaN   \n",
       "3             NaN             NaN               NaN               NaN   \n",
       "4             NaN             NaN               NaN               NaN   \n",
       "5             NaN             NaN               NaN               NaN   \n",
       "\n",
       "   h1_bun_max  h1_bun_min  h1_calcium_max  h1_calcium_min  h1_creatinine_max  \\\n",
       "1         NaN         NaN             NaN             NaN                NaN   \n",
       "2         9.0         9.0             8.6             8.6               0.56   \n",
       "3         NaN         NaN             NaN             NaN                NaN   \n",
       "4         NaN         NaN             NaN             NaN                NaN   \n",
       "5         NaN         NaN             NaN             NaN                NaN   \n",
       "\n",
       "   diabetes_mellitus  \n",
       "1                  1  \n",
       "2                  1  \n",
       "3                  0  \n",
       "4                  0  \n",
       "5                  0  \n",
       "\n",
       "[5 rows x 46 columns]"
      ]
     },
     "execution_count": 39,
     "metadata": {},
     "output_type": "execute_result"
    }
   ],
   "source": [
    "df.head()"
   ]
  },
  {
   "cell_type": "code",
   "execution_count": 40,
   "id": "c477ff66-a762-4586-b37c-c3052791b032",
   "metadata": {},
   "outputs": [],
   "source": [
    "stats = df.describe()"
   ]
  },
  {
   "cell_type": "code",
   "execution_count": 41,
   "id": "c8248ba9-204c-4309-9428-a30fb2a642c9",
   "metadata": {},
   "outputs": [
    {
     "data": {
      "text/html": [
       "<div>\n",
       "<style scoped>\n",
       "    .dataframe tbody tr th:only-of-type {\n",
       "        vertical-align: middle;\n",
       "    }\n",
       "\n",
       "    .dataframe tbody tr th {\n",
       "        vertical-align: top;\n",
       "    }\n",
       "\n",
       "    .dataframe thead th {\n",
       "        text-align: right;\n",
       "    }\n",
       "</style>\n",
       "<table border=\"1\" class=\"dataframe\">\n",
       "  <thead>\n",
       "    <tr style=\"text-align: right;\">\n",
       "      <th></th>\n",
       "      <th>h1_sysbp_max</th>\n",
       "      <th>h1_sysbp_min</th>\n",
       "      <th>h1_sysbp_noninvasive_max</th>\n",
       "      <th>h1_sysbp_noninvasive_min</th>\n",
       "      <th>h1_temp_max</th>\n",
       "      <th>h1_temp_min</th>\n",
       "      <th>d1_albumin_max</th>\n",
       "      <th>d1_albumin_min</th>\n",
       "      <th>d1_bilirubin_max</th>\n",
       "      <th>d1_bilirubin_min</th>\n",
       "    </tr>\n",
       "  </thead>\n",
       "  <tbody>\n",
       "    <tr>\n",
       "      <th>count</th>\n",
       "      <td>124638.000000</td>\n",
       "      <td>124638.000000</td>\n",
       "      <td>118827.000000</td>\n",
       "      <td>118827.000000</td>\n",
       "      <td>100454.000000</td>\n",
       "      <td>100454.000000</td>\n",
       "      <td>58751.000000</td>\n",
       "      <td>58751.000000</td>\n",
       "      <td>53422.000000</td>\n",
       "      <td>53422.000000</td>\n",
       "    </tr>\n",
       "    <tr>\n",
       "      <th>mean</th>\n",
       "      <td>133.262584</td>\n",
       "      <td>115.951981</td>\n",
       "      <td>133.059136</td>\n",
       "      <td>116.082237</td>\n",
       "      <td>36.722597</td>\n",
       "      <td>36.613964</td>\n",
       "      <td>2.952673</td>\n",
       "      <td>2.883073</td>\n",
       "      <td>1.191379</td>\n",
       "      <td>1.117405</td>\n",
       "    </tr>\n",
       "    <tr>\n",
       "      <th>std</th>\n",
       "      <td>27.452037</td>\n",
       "      <td>26.315817</td>\n",
       "      <td>27.573246</td>\n",
       "      <td>26.422179</td>\n",
       "      <td>0.773744</td>\n",
       "      <td>0.796852</td>\n",
       "      <td>0.675606</td>\n",
       "      <td>0.679808</td>\n",
       "      <td>2.319165</td>\n",
       "      <td>2.201525</td>\n",
       "    </tr>\n",
       "    <tr>\n",
       "      <th>min</th>\n",
       "      <td>75.000000</td>\n",
       "      <td>53.000000</td>\n",
       "      <td>75.000000</td>\n",
       "      <td>53.000000</td>\n",
       "      <td>33.400000</td>\n",
       "      <td>32.900000</td>\n",
       "      <td>1.200000</td>\n",
       "      <td>1.100000</td>\n",
       "      <td>0.200000</td>\n",
       "      <td>0.200000</td>\n",
       "    </tr>\n",
       "    <tr>\n",
       "      <th>25%</th>\n",
       "      <td>113.000000</td>\n",
       "      <td>97.000000</td>\n",
       "      <td>113.000000</td>\n",
       "      <td>98.000000</td>\n",
       "      <td>36.400000</td>\n",
       "      <td>36.300000</td>\n",
       "      <td>2.500000</td>\n",
       "      <td>2.400000</td>\n",
       "      <td>0.400000</td>\n",
       "      <td>0.400000</td>\n",
       "    </tr>\n",
       "    <tr>\n",
       "      <th>50%</th>\n",
       "      <td>131.000000</td>\n",
       "      <td>114.000000</td>\n",
       "      <td>130.000000</td>\n",
       "      <td>115.000000</td>\n",
       "      <td>36.700000</td>\n",
       "      <td>36.700000</td>\n",
       "      <td>3.000000</td>\n",
       "      <td>2.900000</td>\n",
       "      <td>0.700000</td>\n",
       "      <td>0.600000</td>\n",
       "    </tr>\n",
       "    <tr>\n",
       "      <th>75%</th>\n",
       "      <td>150.000000</td>\n",
       "      <td>133.000000</td>\n",
       "      <td>150.000000</td>\n",
       "      <td>133.000000</td>\n",
       "      <td>37.100000</td>\n",
       "      <td>37.000000</td>\n",
       "      <td>3.400000</td>\n",
       "      <td>3.400000</td>\n",
       "      <td>1.100000</td>\n",
       "      <td>1.000000</td>\n",
       "    </tr>\n",
       "    <tr>\n",
       "      <th>max</th>\n",
       "      <td>223.000000</td>\n",
       "      <td>194.000000</td>\n",
       "      <td>223.000000</td>\n",
       "      <td>195.000000</td>\n",
       "      <td>39.500000</td>\n",
       "      <td>39.300000</td>\n",
       "      <td>4.600000</td>\n",
       "      <td>4.500000</td>\n",
       "      <td>60.200000</td>\n",
       "      <td>58.000000</td>\n",
       "    </tr>\n",
       "  </tbody>\n",
       "</table>\n",
       "</div>"
      ],
      "text/plain": [
       "        h1_sysbp_max   h1_sysbp_min  h1_sysbp_noninvasive_max  \\\n",
       "count  124638.000000  124638.000000             118827.000000   \n",
       "mean      133.262584     115.951981                133.059136   \n",
       "std        27.452037      26.315817                 27.573246   \n",
       "min        75.000000      53.000000                 75.000000   \n",
       "25%       113.000000      97.000000                113.000000   \n",
       "50%       131.000000     114.000000                130.000000   \n",
       "75%       150.000000     133.000000                150.000000   \n",
       "max       223.000000     194.000000                223.000000   \n",
       "\n",
       "       h1_sysbp_noninvasive_min    h1_temp_max    h1_temp_min  d1_albumin_max  \\\n",
       "count             118827.000000  100454.000000  100454.000000    58751.000000   \n",
       "mean                 116.082237      36.722597      36.613964        2.952673   \n",
       "std                   26.422179       0.773744       0.796852        0.675606   \n",
       "min                   53.000000      33.400000      32.900000        1.200000   \n",
       "25%                   98.000000      36.400000      36.300000        2.500000   \n",
       "50%                  115.000000      36.700000      36.700000        3.000000   \n",
       "75%                  133.000000      37.100000      37.000000        3.400000   \n",
       "max                  195.000000      39.500000      39.300000        4.600000   \n",
       "\n",
       "       d1_albumin_min  d1_bilirubin_max  d1_bilirubin_min  \n",
       "count    58751.000000      53422.000000      53422.000000  \n",
       "mean         2.883073          1.191379          1.117405  \n",
       "std          0.679808          2.319165          2.201525  \n",
       "min          1.100000          0.200000          0.200000  \n",
       "25%          2.400000          0.400000          0.400000  \n",
       "50%          2.900000          0.700000          0.600000  \n",
       "75%          3.400000          1.100000          1.000000  \n",
       "max          4.500000         60.200000         58.000000  "
      ]
     },
     "execution_count": 41,
     "metadata": {},
     "output_type": "execute_result"
    }
   ],
   "source": [
    "stats.iloc[:, :10]"
   ]
  },
  {
   "cell_type": "markdown",
   "id": "9477cb5f-c0ad-495c-9aba-f4dffaddab74",
   "metadata": {},
   "source": [
    "bilirunbin's range is not \"usual\" as other columns"
   ]
  },
  {
   "cell_type": "code",
   "execution_count": 48,
   "id": "87a9c6c8-8fe5-415d-a6d3-6ba5da55fd63",
   "metadata": {},
   "outputs": [
    {
     "data": {
      "text/plain": [
       "0    0.779256\n",
       "1    0.220744\n",
       "Name: diabetes_mellitus, dtype: float64"
      ]
     },
     "execution_count": 48,
     "metadata": {},
     "output_type": "execute_result"
    }
   ],
   "source": [
    "the_df = df[df['d1_bilirubin_min'] <= 10]\n",
    "the_df[target_name].value_counts() / the_df.shape[0]"
   ]
  },
  {
   "cell_type": "code",
   "execution_count": 26,
   "id": "a4586fa0-7330-4573-96fd-b109d8e4d759",
   "metadata": {},
   "outputs": [
    {
     "data": {
      "text/plain": [
       "<matplotlib.axes._subplots.AxesSubplot at 0x7f4f46db7780>"
      ]
     },
     "execution_count": 26,
     "metadata": {},
     "output_type": "execute_result"
    },
    {
     "data": {
      "image/png": "[encoded data removed]",
      "text/plain": [
       "<Figure size 432x288 with 1 Axes>"
      ]
     },
     "metadata": {
      "needs_background": "light"
     },
     "output_type": "display_data"
    }
   ],
   "source": [
    "df['d1_bilirubin_min'].hist(bins=10)"
   ]
  },
  {
   "cell_type": "code",
   "execution_count": 60,
   "id": "46fc6edf-c382-47a5-9d72-4c9f6075d3e6",
   "metadata": {},
   "outputs": [
    {
     "data": {
      "text/plain": [
       "<matplotlib.axes._subplots.AxesSubplot at 0x7f4f4676ba90>"
      ]
     },
     "execution_count": 60,
     "metadata": {},
     "output_type": "execute_result"
    },
    {
     "data": {
      "image/png": "[encoded data removed]",
      "text/plain": [
       "<Figure size 432x288 with 1 Axes>"
      ]
     },
     "metadata": {
      "needs_background": "light"
     },
     "output_type": "display_data"
    }
   ],
   "source": [
    "np.log2(df['d1_bilirubin_min']).hist()"
   ]
  },
  {
   "cell_type": "code",
   "execution_count": 49,
   "id": "c98591a3-a2ae-4d2c-82d5-7a4e8c461db6",
   "metadata": {},
   "outputs": [
    {
     "data": {
      "text/plain": [
       "0    0.779164\n",
       "1    0.220836\n",
       "Name: diabetes_mellitus, dtype: float64"
      ]
     },
     "execution_count": 49,
     "metadata": {},
     "output_type": "execute_result"
    }
   ],
   "source": [
    "the_df = df[df['d1_bilirubin_max'] <= 10]\n",
    "the_df[target_name].value_counts() / the_df.shape[0]"
   ]
  },
  {
   "cell_type": "code",
   "execution_count": 27,
   "id": "04f43db9-47f6-45ce-89b8-94ddaf44278a",
   "metadata": {},
   "outputs": [
    {
     "data": {
      "text/plain": [
       "<matplotlib.axes._subplots.AxesSubplot at 0x7f4f46d81908>"
      ]
     },
     "execution_count": 27,
     "metadata": {},
     "output_type": "execute_result"
    },
    {
     "data": {
      "image/png": "[encoded data removed]",
      "text/plain": [
       "<Figure size 432x288 with 1 Axes>"
      ]
     },
     "metadata": {
      "needs_background": "light"
     },
     "output_type": "display_data"
    }
   ],
   "source": [
    "df['d1_bilirubin_max'].hist()"
   ]
  },
  {
   "cell_type": "code",
   "execution_count": 58,
   "id": "6bb06a87-48f9-43b3-9520-921b29153ea4",
   "metadata": {},
   "outputs": [
    {
     "data": {
      "text/plain": [
       "<matplotlib.axes._subplots.AxesSubplot at 0x7f4f468a8a58>"
      ]
     },
     "execution_count": 58,
     "metadata": {},
     "output_type": "execute_result"
    },
    {
     "data": {
      "image/png": "[encoded data removed]",
      "text/plain": [
       "<Figure size 432x288 with 1 Axes>"
      ]
     },
     "metadata": {
      "needs_background": "light"
     },
     "output_type": "display_data"
    }
   ],
   "source": [
    "np.log2(df['d1_bilirubin_max']).hist()"
   ]
  },
  {
   "cell_type": "code",
   "execution_count": 18,
   "id": "fc181d47-57df-4c29-add7-5daee7a3eaa8",
   "metadata": {},
   "outputs": [
    {
     "data": {
      "text/html": [
       "<div>\n",
       "<style scoped>\n",
       "    .dataframe tbody tr th:only-of-type {\n",
       "        vertical-align: middle;\n",
       "    }\n",
       "\n",
       "    .dataframe tbody tr th {\n",
       "        vertical-align: top;\n",
       "    }\n",
       "\n",
       "    .dataframe thead th {\n",
       "        text-align: right;\n",
       "    }\n",
       "</style>\n",
       "<table border=\"1\" class=\"dataframe\">\n",
       "  <thead>\n",
       "    <tr style=\"text-align: right;\">\n",
       "      <th></th>\n",
       "      <th>d1_bun_max</th>\n",
       "      <th>d1_bun_min</th>\n",
       "      <th>d1_calcium_max</th>\n",
       "      <th>d1_calcium_min</th>\n",
       "      <th>d1_creatinine_max</th>\n",
       "      <th>d1_creatinine_min</th>\n",
       "      <th>d1_glucose_max</th>\n",
       "      <th>d1_glucose_min</th>\n",
       "      <th>d1_hco3_max</th>\n",
       "      <th>d1_hco3_min</th>\n",
       "    </tr>\n",
       "  </thead>\n",
       "  <tbody>\n",
       "    <tr>\n",
       "      <th>count</th>\n",
       "      <td>116423.000000</td>\n",
       "      <td>116423.000000</td>\n",
       "      <td>113465.000000</td>\n",
       "      <td>113465.000000</td>\n",
       "      <td>116884.000000</td>\n",
       "      <td>116884.000000</td>\n",
       "      <td>121914.000000</td>\n",
       "      <td>121914.000000</td>\n",
       "      <td>110110.000000</td>\n",
       "      <td>110110.000000</td>\n",
       "    </tr>\n",
       "    <tr>\n",
       "      <th>mean</th>\n",
       "      <td>25.578808</td>\n",
       "      <td>23.554154</td>\n",
       "      <td>8.379782</td>\n",
       "      <td>8.164674</td>\n",
       "      <td>1.493531</td>\n",
       "      <td>1.363795</td>\n",
       "      <td>174.149802</td>\n",
       "      <td>114.440310</td>\n",
       "      <td>24.452872</td>\n",
       "      <td>23.192344</td>\n",
       "    </tr>\n",
       "    <tr>\n",
       "      <th>std</th>\n",
       "      <td>20.495927</td>\n",
       "      <td>18.708332</td>\n",
       "      <td>0.740098</td>\n",
       "      <td>0.793055</td>\n",
       "      <td>1.525906</td>\n",
       "      <td>1.341642</td>\n",
       "      <td>86.545466</td>\n",
       "      <td>38.217682</td>\n",
       "      <td>4.364990</td>\n",
       "      <td>5.000293</td>\n",
       "    </tr>\n",
       "    <tr>\n",
       "      <th>min</th>\n",
       "      <td>4.000000</td>\n",
       "      <td>3.000000</td>\n",
       "      <td>6.200000</td>\n",
       "      <td>5.500000</td>\n",
       "      <td>0.340000</td>\n",
       "      <td>0.300000</td>\n",
       "      <td>73.000000</td>\n",
       "      <td>33.000000</td>\n",
       "      <td>12.000000</td>\n",
       "      <td>7.000000</td>\n",
       "    </tr>\n",
       "    <tr>\n",
       "      <th>25%</th>\n",
       "      <td>13.000000</td>\n",
       "      <td>12.000000</td>\n",
       "      <td>7.900000</td>\n",
       "      <td>7.700000</td>\n",
       "      <td>0.750000</td>\n",
       "      <td>0.710000</td>\n",
       "      <td>117.000000</td>\n",
       "      <td>91.000000</td>\n",
       "      <td>22.000000</td>\n",
       "      <td>21.000000</td>\n",
       "    </tr>\n",
       "    <tr>\n",
       "      <th>50%</th>\n",
       "      <td>19.000000</td>\n",
       "      <td>17.000000</td>\n",
       "      <td>8.400000</td>\n",
       "      <td>8.200000</td>\n",
       "      <td>1.000000</td>\n",
       "      <td>0.940000</td>\n",
       "      <td>150.000000</td>\n",
       "      <td>108.000000</td>\n",
       "      <td>24.000000</td>\n",
       "      <td>23.000000</td>\n",
       "    </tr>\n",
       "    <tr>\n",
       "      <th>75%</th>\n",
       "      <td>31.000000</td>\n",
       "      <td>29.000000</td>\n",
       "      <td>8.800000</td>\n",
       "      <td>8.700000</td>\n",
       "      <td>1.510000</td>\n",
       "      <td>1.400000</td>\n",
       "      <td>200.000000</td>\n",
       "      <td>131.000000</td>\n",
       "      <td>27.000000</td>\n",
       "      <td>26.000000</td>\n",
       "    </tr>\n",
       "    <tr>\n",
       "      <th>max</th>\n",
       "      <td>126.000000</td>\n",
       "      <td>113.090000</td>\n",
       "      <td>10.800000</td>\n",
       "      <td>10.300000</td>\n",
       "      <td>11.110000</td>\n",
       "      <td>9.937900</td>\n",
       "      <td>611.000000</td>\n",
       "      <td>288.000000</td>\n",
       "      <td>40.000000</td>\n",
       "      <td>39.000000</td>\n",
       "    </tr>\n",
       "  </tbody>\n",
       "</table>\n",
       "</div>"
      ],
      "text/plain": [
       "          d1_bun_max     d1_bun_min  d1_calcium_max  d1_calcium_min  \\\n",
       "count  116423.000000  116423.000000   113465.000000   113465.000000   \n",
       "mean       25.578808      23.554154        8.379782        8.164674   \n",
       "std        20.495927      18.708332        0.740098        0.793055   \n",
       "min         4.000000       3.000000        6.200000        5.500000   \n",
       "25%        13.000000      12.000000        7.900000        7.700000   \n",
       "50%        19.000000      17.000000        8.400000        8.200000   \n",
       "75%        31.000000      29.000000        8.800000        8.700000   \n",
       "max       126.000000     113.090000       10.800000       10.300000   \n",
       "\n",
       "       d1_creatinine_max  d1_creatinine_min  d1_glucose_max  d1_glucose_min  \\\n",
       "count      116884.000000      116884.000000   121914.000000   121914.000000   \n",
       "mean            1.493531           1.363795      174.149802      114.440310   \n",
       "std             1.525906           1.341642       86.545466       38.217682   \n",
       "min             0.340000           0.300000       73.000000       33.000000   \n",
       "25%             0.750000           0.710000      117.000000       91.000000   \n",
       "50%             1.000000           0.940000      150.000000      108.000000   \n",
       "75%             1.510000           1.400000      200.000000      131.000000   \n",
       "max            11.110000           9.937900      611.000000      288.000000   \n",
       "\n",
       "         d1_hco3_max    d1_hco3_min  \n",
       "count  110110.000000  110110.000000  \n",
       "mean       24.452872      23.192344  \n",
       "std         4.364990       5.000293  \n",
       "min        12.000000       7.000000  \n",
       "25%        22.000000      21.000000  \n",
       "50%        24.000000      23.000000  \n",
       "75%        27.000000      26.000000  \n",
       "max        40.000000      39.000000  "
      ]
     },
     "execution_count": 18,
     "metadata": {},
     "output_type": "execute_result"
    }
   ],
   "source": [
    "stats.iloc[:, 10:20]"
   ]
  },
  {
   "cell_type": "code",
   "execution_count": 50,
   "id": "68df28f7-4d97-49d4-8877-2b9f67e8bf76",
   "metadata": {},
   "outputs": [
    {
     "data": {
      "text/plain": [
       "<matplotlib.axes._subplots.AxesSubplot at 0x7f4f469ed240>"
      ]
     },
     "execution_count": 50,
     "metadata": {},
     "output_type": "execute_result"
    },
    {
     "data": {
      "image/png": "[encoded data removed]",
      "text/plain": [
       "<Figure size 432x288 with 1 Axes>"
      ]
     },
     "metadata": {
      "needs_background": "light"
     },
     "output_type": "display_data"
    }
   ],
   "source": [
    "df['d1_glucose_max'].hist()"
   ]
  },
  {
   "cell_type": "code",
   "execution_count": 57,
   "id": "88446f0a-b218-42b2-a291-c3be5d9fc088",
   "metadata": {},
   "outputs": [
    {
     "data": {
      "text/plain": [
       "<matplotlib.axes._subplots.AxesSubplot at 0x7f4f467b28d0>"
      ]
     },
     "execution_count": 57,
     "metadata": {},
     "output_type": "execute_result"
    },
    {
     "data": {
      "image/png": "[encoded data removed]",
      "text/plain": [
       "<Figure size 432x288 with 1 Axes>"
      ]
     },
     "metadata": {
      "needs_background": "light"
     },
     "output_type": "display_data"
    }
   ],
   "source": [
    "np.log2(df['d1_glucose_max']).hist()"
   ]
  },
  {
   "cell_type": "code",
   "execution_count": 51,
   "id": "2f6fbaa9-aa02-40ad-b6a2-88b313da64a4",
   "metadata": {},
   "outputs": [
    {
     "data": {
      "text/plain": [
       "<matplotlib.axes._subplots.AxesSubplot at 0x7f4f46d13dd8>"
      ]
     },
     "execution_count": 51,
     "metadata": {},
     "output_type": "execute_result"
    },
    {
     "data": {
      "image/png": "[encoded data removed]",
      "text/plain": [
       "<Figure size 432x288 with 1 Axes>"
      ]
     },
     "metadata": {
      "needs_background": "light"
     },
     "output_type": "display_data"
    }
   ],
   "source": [
    "df['d1_glucose_min'].hist()"
   ]
  },
  {
   "cell_type": "code",
   "execution_count": 19,
   "id": "3baef3d0-df4b-4e46-9b22-caa862d8402f",
   "metadata": {},
   "outputs": [
    {
     "data": {
      "text/html": [
       "<div>\n",
       "<style scoped>\n",
       "    .dataframe tbody tr th:only-of-type {\n",
       "        vertical-align: middle;\n",
       "    }\n",
       "\n",
       "    .dataframe tbody tr th {\n",
       "        vertical-align: top;\n",
       "    }\n",
       "\n",
       "    .dataframe thead th {\n",
       "        text-align: right;\n",
       "    }\n",
       "</style>\n",
       "<table border=\"1\" class=\"dataframe\">\n",
       "  <thead>\n",
       "    <tr style=\"text-align: right;\">\n",
       "      <th></th>\n",
       "      <th>d1_potassium_max</th>\n",
       "      <th>d1_potassium_min</th>\n",
       "      <th>d1_sodium_max</th>\n",
       "      <th>d1_sodium_min</th>\n",
       "      <th>d1_wbc_max</th>\n",
       "      <th>d1_wbc_min</th>\n",
       "      <th>h1_albumin_max</th>\n",
       "      <th>h1_albumin_min</th>\n",
       "      <th>h1_bilirubin_max</th>\n",
       "      <th>h1_bilirubin_min</th>\n",
       "    </tr>\n",
       "  </thead>\n",
       "  <tbody>\n",
       "    <tr>\n",
       "      <th>count</th>\n",
       "      <td>117611.000000</td>\n",
       "      <td>117611.000000</td>\n",
       "      <td>116887.000000</td>\n",
       "      <td>116887.000000</td>\n",
       "      <td>112728.000000</td>\n",
       "      <td>112728.000000</td>\n",
       "      <td>11152.000000</td>\n",
       "      <td>11152.000000</td>\n",
       "      <td>10296.000000</td>\n",
       "      <td>10296.000000</td>\n",
       "    </tr>\n",
       "    <tr>\n",
       "      <th>mean</th>\n",
       "      <td>4.253053</td>\n",
       "      <td>3.929256</td>\n",
       "      <td>139.149448</td>\n",
       "      <td>137.692273</td>\n",
       "      <td>12.539672</td>\n",
       "      <td>11.298567</td>\n",
       "      <td>3.008563</td>\n",
       "      <td>3.007254</td>\n",
       "      <td>1.187979</td>\n",
       "      <td>1.187173</td>\n",
       "    </tr>\n",
       "    <tr>\n",
       "      <th>std</th>\n",
       "      <td>0.666942</td>\n",
       "      <td>0.579459</td>\n",
       "      <td>4.827752</td>\n",
       "      <td>4.926242</td>\n",
       "      <td>6.782836</td>\n",
       "      <td>5.924633</td>\n",
       "      <td>0.738170</td>\n",
       "      <td>0.738457</td>\n",
       "      <td>2.375772</td>\n",
       "      <td>2.375223</td>\n",
       "    </tr>\n",
       "    <tr>\n",
       "      <th>min</th>\n",
       "      <td>2.800000</td>\n",
       "      <td>2.400000</td>\n",
       "      <td>123.000000</td>\n",
       "      <td>117.000000</td>\n",
       "      <td>1.200000</td>\n",
       "      <td>0.900000</td>\n",
       "      <td>1.100000</td>\n",
       "      <td>1.100000</td>\n",
       "      <td>0.200000</td>\n",
       "      <td>0.200000</td>\n",
       "    </tr>\n",
       "    <tr>\n",
       "      <th>25%</th>\n",
       "      <td>3.800000</td>\n",
       "      <td>3.600000</td>\n",
       "      <td>137.000000</td>\n",
       "      <td>135.000000</td>\n",
       "      <td>8.000000</td>\n",
       "      <td>7.400000</td>\n",
       "      <td>2.500000</td>\n",
       "      <td>2.500000</td>\n",
       "      <td>0.400000</td>\n",
       "      <td>0.400000</td>\n",
       "    </tr>\n",
       "    <tr>\n",
       "      <th>50%</th>\n",
       "      <td>4.200000</td>\n",
       "      <td>3.900000</td>\n",
       "      <td>139.000000</td>\n",
       "      <td>138.000000</td>\n",
       "      <td>11.100000</td>\n",
       "      <td>10.100000</td>\n",
       "      <td>3.100000</td>\n",
       "      <td>3.100000</td>\n",
       "      <td>0.700000</td>\n",
       "      <td>0.700000</td>\n",
       "    </tr>\n",
       "    <tr>\n",
       "      <th>75%</th>\n",
       "      <td>4.600000</td>\n",
       "      <td>4.300000</td>\n",
       "      <td>142.000000</td>\n",
       "      <td>141.000000</td>\n",
       "      <td>15.300000</td>\n",
       "      <td>13.700000</td>\n",
       "      <td>3.500000</td>\n",
       "      <td>3.500000</td>\n",
       "      <td>1.100000</td>\n",
       "      <td>1.100000</td>\n",
       "    </tr>\n",
       "    <tr>\n",
       "      <th>max</th>\n",
       "      <td>7.000000</td>\n",
       "      <td>5.800000</td>\n",
       "      <td>158.000000</td>\n",
       "      <td>153.000000</td>\n",
       "      <td>46.080000</td>\n",
       "      <td>40.898000</td>\n",
       "      <td>4.700000</td>\n",
       "      <td>4.700000</td>\n",
       "      <td>58.000000</td>\n",
       "      <td>58.000000</td>\n",
       "    </tr>\n",
       "  </tbody>\n",
       "</table>\n",
       "</div>"
      ],
      "text/plain": [
       "       d1_potassium_max  d1_potassium_min  d1_sodium_max  d1_sodium_min  \\\n",
       "count     117611.000000     117611.000000  116887.000000  116887.000000   \n",
       "mean           4.253053          3.929256     139.149448     137.692273   \n",
       "std            0.666942          0.579459       4.827752       4.926242   \n",
       "min            2.800000          2.400000     123.000000     117.000000   \n",
       "25%            3.800000          3.600000     137.000000     135.000000   \n",
       "50%            4.200000          3.900000     139.000000     138.000000   \n",
       "75%            4.600000          4.300000     142.000000     141.000000   \n",
       "max            7.000000          5.800000     158.000000     153.000000   \n",
       "\n",
       "          d1_wbc_max     d1_wbc_min  h1_albumin_max  h1_albumin_min  \\\n",
       "count  112728.000000  112728.000000    11152.000000    11152.000000   \n",
       "mean       12.539672      11.298567        3.008563        3.007254   \n",
       "std         6.782836       5.924633        0.738170        0.738457   \n",
       "min         1.200000       0.900000        1.100000        1.100000   \n",
       "25%         8.000000       7.400000        2.500000        2.500000   \n",
       "50%        11.100000      10.100000        3.100000        3.100000   \n",
       "75%        15.300000      13.700000        3.500000        3.500000   \n",
       "max        46.080000      40.898000        4.700000        4.700000   \n",
       "\n",
       "       h1_bilirubin_max  h1_bilirubin_min  \n",
       "count      10296.000000      10296.000000  \n",
       "mean           1.187979          1.187173  \n",
       "std            2.375772          2.375223  \n",
       "min            0.200000          0.200000  \n",
       "25%            0.400000          0.400000  \n",
       "50%            0.700000          0.700000  \n",
       "75%            1.100000          1.100000  \n",
       "max           58.000000         58.000000  "
      ]
     },
     "execution_count": 19,
     "metadata": {},
     "output_type": "execute_result"
    }
   ],
   "source": [
    "stats.iloc[:, 30:40]"
   ]
  },
  {
   "cell_type": "code",
   "execution_count": 63,
   "id": "83ede0d9-6b74-4ed8-8466-bb5cd2bdd52d",
   "metadata": {},
   "outputs": [
    {
     "data": {
      "text/plain": [
       "<matplotlib.axes._subplots.AxesSubplot at 0x7f4f465c5f98>"
      ]
     },
     "execution_count": 63,
     "metadata": {},
     "output_type": "execute_result"
    },
    {
     "data": {
      "image/png": "[encoded data removed]",
      "text/plain": [
       "<Figure size 432x288 with 1 Axes>"
      ]
     },
     "metadata": {
      "needs_background": "light"
     },
     "output_type": "display_data"
    }
   ],
   "source": [
    "df['d1_wbc_max'].hist()"
   ]
  },
  {
   "cell_type": "code",
   "execution_count": 64,
   "id": "0fe05103-9429-4d01-bdbf-53880289d235",
   "metadata": {},
   "outputs": [
    {
     "data": {
      "text/plain": [
       "<matplotlib.axes._subplots.AxesSubplot at 0x7f4f46611eb8>"
      ]
     },
     "execution_count": 64,
     "metadata": {},
     "output_type": "execute_result"
    },
    {
     "data": {
      "image/png": "[encoded data removed]",
      "text/plain": [
       "<Figure size 432x288 with 1 Axes>"
      ]
     },
     "metadata": {
      "needs_background": "light"
     },
     "output_type": "display_data"
    }
   ],
   "source": [
    "df['d1_wbc_min'].hist()"
   ]
  },
  {
   "cell_type": "code",
   "execution_count": 65,
   "id": "d5d4975c-e698-4139-8cd3-5d19ae7ee3a9",
   "metadata": {},
   "outputs": [
    {
     "data": {
      "text/plain": [
       "<matplotlib.axes._subplots.AxesSubplot at 0x7f4f46526c50>"
      ]
     },
     "execution_count": 65,
     "metadata": {},
     "output_type": "execute_result"
    },
    {
     "data": {
      "image/png": "[encoded data removed]",
      "text/plain": [
       "<Figure size 432x288 with 1 Axes>"
      ]
     },
     "metadata": {
      "needs_background": "light"
     },
     "output_type": "display_data"
    }
   ],
   "source": [
    "df['h1_bilirubin_max'].hist()"
   ]
  },
  {
   "cell_type": "code",
   "execution_count": 67,
   "id": "8d1ac1a6-1322-40c8-9106-e9944dc62d7a",
   "metadata": {},
   "outputs": [
    {
     "data": {
      "text/plain": [
       "<matplotlib.axes._subplots.AxesSubplot at 0x7f4f396c42b0>"
      ]
     },
     "execution_count": 67,
     "metadata": {},
     "output_type": "execute_result"
    },
    {
     "data": {
      "image/png": "[encoded data removed]",
      "text/plain": [
       "<Figure size 432x288 with 1 Axes>"
      ]
     },
     "metadata": {
      "needs_background": "light"
     },
     "output_type": "display_data"
    }
   ],
   "source": [
    "np.log2(df['h1_bilirubin_max']).hist()"
   ]
  },
  {
   "cell_type": "code",
   "execution_count": 66,
   "id": "3af355db-7de4-4910-8dfa-0f0c18caf506",
   "metadata": {},
   "outputs": [
    {
     "data": {
      "text/plain": [
       "<matplotlib.axes._subplots.AxesSubplot at 0x7f4f464b0080>"
      ]
     },
     "execution_count": 66,
     "metadata": {},
     "output_type": "execute_result"
    },
    {
     "data": {
      "image/png": "[encoded data removed]",
      "text/plain": [
       "<Figure size 432x288 with 1 Axes>"
      ]
     },
     "metadata": {
      "needs_background": "light"
     },
     "output_type": "display_data"
    }
   ],
   "source": [
    "df['h1_bilirubin_min'].hist()"
   ]
  },
  {
   "cell_type": "code",
   "execution_count": 68,
   "id": "7367611c-90d0-4b47-9ac1-4907c50af213",
   "metadata": {},
   "outputs": [
    {
     "data": {
      "text/plain": [
       "<matplotlib.axes._subplots.AxesSubplot at 0x7f4f396741d0>"
      ]
     },
     "execution_count": 68,
     "metadata": {},
     "output_type": "execute_result"
    },
    {
     "data": {
      "image/png": "[encoded data removed]",
      "text/plain": [
       "<Figure size 432x288 with 1 Axes>"
      ]
     },
     "metadata": {
      "needs_background": "light"
     },
     "output_type": "display_data"
    }
   ],
   "source": [
    "np.log2(df['h1_bilirubin_min']).hist()"
   ]
  },
  {
   "cell_type": "code",
   "execution_count": 69,
   "id": "25c6ecf8-5f1d-4e35-a2a7-e200eaaa92c2",
   "metadata": {},
   "outputs": [
    {
     "data": {
      "text/html": [
       "<div>\n",
       "<style scoped>\n",
       "    .dataframe tbody tr th:only-of-type {\n",
       "        vertical-align: middle;\n",
       "    }\n",
       "\n",
       "    .dataframe tbody tr th {\n",
       "        vertical-align: top;\n",
       "    }\n",
       "\n",
       "    .dataframe thead th {\n",
       "        text-align: right;\n",
       "    }\n",
       "</style>\n",
       "<table border=\"1\" class=\"dataframe\">\n",
       "  <thead>\n",
       "    <tr style=\"text-align: right;\">\n",
       "      <th></th>\n",
       "      <th>h1_bun_max</th>\n",
       "      <th>h1_bun_min</th>\n",
       "      <th>h1_calcium_max</th>\n",
       "      <th>h1_calcium_min</th>\n",
       "      <th>h1_creatinine_max</th>\n",
       "      <th>diabetes_mellitus</th>\n",
       "    </tr>\n",
       "  </thead>\n",
       "  <tbody>\n",
       "    <tr>\n",
       "      <th>count</th>\n",
       "      <td>25167.000000</td>\n",
       "      <td>25167.000000</td>\n",
       "      <td>24236.000000</td>\n",
       "      <td>24236.000000</td>\n",
       "      <td>25373.000000</td>\n",
       "      <td>130157.000000</td>\n",
       "    </tr>\n",
       "    <tr>\n",
       "      <th>mean</th>\n",
       "      <td>25.631220</td>\n",
       "      <td>25.606374</td>\n",
       "      <td>8.274175</td>\n",
       "      <td>8.265049</td>\n",
       "      <td>1.526582</td>\n",
       "      <td>0.216285</td>\n",
       "    </tr>\n",
       "    <tr>\n",
       "      <th>std</th>\n",
       "      <td>21.377589</td>\n",
       "      <td>21.360676</td>\n",
       "      <td>0.892787</td>\n",
       "      <td>0.905489</td>\n",
       "      <td>1.572771</td>\n",
       "      <td>0.411712</td>\n",
       "    </tr>\n",
       "    <tr>\n",
       "      <th>min</th>\n",
       "      <td>4.000000</td>\n",
       "      <td>4.000000</td>\n",
       "      <td>5.600000</td>\n",
       "      <td>5.300000</td>\n",
       "      <td>0.330000</td>\n",
       "      <td>0.000000</td>\n",
       "    </tr>\n",
       "    <tr>\n",
       "      <th>25%</th>\n",
       "      <td>13.000000</td>\n",
       "      <td>13.000000</td>\n",
       "      <td>7.700000</td>\n",
       "      <td>7.700000</td>\n",
       "      <td>0.780000</td>\n",
       "      <td>0.000000</td>\n",
       "    </tr>\n",
       "    <tr>\n",
       "      <th>50%</th>\n",
       "      <td>18.000000</td>\n",
       "      <td>18.000000</td>\n",
       "      <td>8.300000</td>\n",
       "      <td>8.300000</td>\n",
       "      <td>1.010000</td>\n",
       "      <td>0.000000</td>\n",
       "    </tr>\n",
       "    <tr>\n",
       "      <th>75%</th>\n",
       "      <td>30.000000</td>\n",
       "      <td>30.000000</td>\n",
       "      <td>8.800000</td>\n",
       "      <td>8.800000</td>\n",
       "      <td>1.540000</td>\n",
       "      <td>0.000000</td>\n",
       "    </tr>\n",
       "    <tr>\n",
       "      <th>max</th>\n",
       "      <td>135.000000</td>\n",
       "      <td>135.000000</td>\n",
       "      <td>11.400000</td>\n",
       "      <td>11.315000</td>\n",
       "      <td>11.604200</td>\n",
       "      <td>1.000000</td>\n",
       "    </tr>\n",
       "  </tbody>\n",
       "</table>\n",
       "</div>"
      ],
      "text/plain": [
       "         h1_bun_max    h1_bun_min  h1_calcium_max  h1_calcium_min  \\\n",
       "count  25167.000000  25167.000000    24236.000000    24236.000000   \n",
       "mean      25.631220     25.606374        8.274175        8.265049   \n",
       "std       21.377589     21.360676        0.892787        0.905489   \n",
       "min        4.000000      4.000000        5.600000        5.300000   \n",
       "25%       13.000000     13.000000        7.700000        7.700000   \n",
       "50%       18.000000     18.000000        8.300000        8.300000   \n",
       "75%       30.000000     30.000000        8.800000        8.800000   \n",
       "max      135.000000    135.000000       11.400000       11.315000   \n",
       "\n",
       "       h1_creatinine_max  diabetes_mellitus  \n",
       "count       25373.000000      130157.000000  \n",
       "mean            1.526582           0.216285  \n",
       "std             1.572771           0.411712  \n",
       "min             0.330000           0.000000  \n",
       "25%             0.780000           0.000000  \n",
       "50%             1.010000           0.000000  \n",
       "75%             1.540000           0.000000  \n",
       "max            11.604200           1.000000  "
      ]
     },
     "execution_count": 69,
     "metadata": {},
     "output_type": "execute_result"
    }
   ],
   "source": [
    "stats.iloc[:, 40:]"
   ]
  },
  {
   "cell_type": "code",
   "execution_count": 70,
   "id": "9275458c-4a61-4935-9c42-fae2be0f984a",
   "metadata": {},
   "outputs": [
    {
     "data": {
      "text/plain": [
       "<matplotlib.axes._subplots.AxesSubplot at 0x7f4f395c0710>"
      ]
     },
     "execution_count": 70,
     "metadata": {},
     "output_type": "execute_result"
    },
    {
     "data": {
      "image/png": "[encoded data removed]",
      "text/plain": [
       "<Figure size 432x288 with 1 Axes>"
      ]
     },
     "metadata": {
      "needs_background": "light"
     },
     "output_type": "display_data"
    }
   ],
   "source": [
    "df['h1_bun_max'].hist()"
   ]
  },
  {
   "cell_type": "code",
   "execution_count": 72,
   "id": "8f35ca06-8ec4-4a22-8cbb-d818f56bebf6",
   "metadata": {},
   "outputs": [
    {
     "data": {
      "text/plain": [
       "<matplotlib.axes._subplots.AxesSubplot at 0x7f4f394cb630>"
      ]
     },
     "execution_count": 72,
     "metadata": {},
     "output_type": "execute_result"
    },
    {
     "data": {
      "image/png": "[encoded data removed]",
      "text/plain": [
       "<Figure size 432x288 with 1 Axes>"
      ]
     },
     "metadata": {
      "needs_background": "light"
     },
     "output_type": "display_data"
    }
   ],
   "source": [
    "np.log2(df['h1_bun_max']).hist()"
   ]
  },
  {
   "cell_type": "code",
   "execution_count": 71,
   "id": "c0e26837-0b23-49b3-a777-35e44de9809c",
   "metadata": {},
   "outputs": [
    {
     "data": {
      "text/plain": [
       "<matplotlib.axes._subplots.AxesSubplot at 0x7f4f3955e940>"
      ]
     },
     "execution_count": 71,
     "metadata": {},
     "output_type": "execute_result"
    },
    {
     "data": {
      "image/png": "[encoded data removed]",
      "text/plain": [
       "<Figure size 432x288 with 1 Axes>"
      ]
     },
     "metadata": {
      "needs_background": "light"
     },
     "output_type": "display_data"
    }
   ],
   "source": [
    "df['h1_bun_min'].hist()"
   ]
  },
  {
   "cell_type": "code",
   "execution_count": 73,
   "id": "0925947c-91d3-4c29-8e98-ddb5c66d1ff8",
   "metadata": {},
   "outputs": [
    {
     "data": {
      "text/plain": [
       "<matplotlib.axes._subplots.AxesSubplot at 0x7f4f394429b0>"
      ]
     },
     "execution_count": 73,
     "metadata": {},
     "output_type": "execute_result"
    },
    {
     "data": {
      "image/png": "[encoded data removed]",
      "text/plain": [
       "<Figure size 432x288 with 1 Axes>"
      ]
     },
     "metadata": {
      "needs_background": "light"
     },
     "output_type": "display_data"
    }
   ],
   "source": [
    "np.log2(df['h1_bun_min']).hist()"
   ]
  },
  {
   "cell_type": "code",
   "execution_count": null,
   "id": "b5686b24-7278-4c2f-80f3-d23a5c1c4fdb",
   "metadata": {},
   "outputs": [],
   "source": []
  },
  {
   "cell_type": "code",
   "execution_count": 76,
   "id": "794814ae-ae2c-4933-8cdc-1d3e03c099dd",
   "metadata": {},
   "outputs": [
    {
     "data": {
      "text/plain": [
       "False    118827\n",
       "True      11330\n",
       "Name: h1_sysbp_noninvasive_max, dtype: int64"
      ]
     },
     "execution_count": 76,
     "metadata": {},
     "output_type": "execute_result"
    }
   ],
   "source": [
    "df.iloc[:, 2].isnull().value_counts()"
   ]
  },
  {
   "cell_type": "code",
   "execution_count": 77,
   "id": "325aaeb8-fc9b-48e4-8f61-020ed7ea0942",
   "metadata": {},
   "outputs": [],
   "source": [
    "def mean_imputation(df):\n",
    "    return SimpleImputer(strategy=\"mean\").fit_transform(df)"
   ]
  },
  {
   "cell_type": "code",
   "execution_count": 78,
   "id": "effa61fb-304e-4f3d-9a47-14c10f916d15",
   "metadata": {},
   "outputs": [],
   "source": [
    "def mice_imputation(df):\n",
    "    return IterativeImputer(random_state=42).fit_transform(df)"
   ]
  },
  {
   "cell_type": "code",
   "execution_count": 79,
   "id": "3a56abad-5aa9-4463-852f-73d92479c0d0",
   "metadata": {},
   "outputs": [
    {
     "data": {
      "text/plain": [
       "array([[131.  , 115.  , 131.  , ...,    nan,    nan,   1.  ],\n",
       "       [ 95.  ,  71.  ,  95.  , ...,   8.6 ,   0.56,   1.  ],\n",
       "       [148.  , 124.  , 148.  , ...,    nan,    nan,   0.  ],\n",
       "       ...,\n",
       "       [134.  , 134.  , 134.  , ...,    nan,    nan,   1.  ],\n",
       "       [128.  ,  70.  , 128.  , ...,    nan,    nan,   0.  ],\n",
       "       [143.  , 127.  , 143.  , ...,   9.5 ,   1.06,   0.  ]])"
      ]
     },
     "execution_count": 79,
     "metadata": {},
     "output_type": "execute_result"
    }
   ],
   "source": [
    "df.values"
   ]
  },
  {
   "cell_type": "code",
   "execution_count": 80,
   "id": "1b400bff-2588-4d3c-9d6b-ce5b22aa468b",
   "metadata": {},
   "outputs": [
    {
     "data": {
      "text/plain": [
       "133.05913639156083"
      ]
     },
     "execution_count": 80,
     "metadata": {},
     "output_type": "execute_result"
    }
   ],
   "source": [
    "df.iloc[:, 2].mean()"
   ]
  },
  {
   "cell_type": "code",
   "execution_count": 81,
   "id": "a44da88d-2d21-4dc3-85f2-de7674c6de9c",
   "metadata": {},
   "outputs": [],
   "source": [
    "mean_imputed_df = mean_imputation(df.values)"
   ]
  },
  {
   "cell_type": "code",
   "execution_count": 82,
   "id": "cbafa4cc-68e8-44fb-a005-868cf61bd82e",
   "metadata": {},
   "outputs": [
    {
     "name": "stderr",
     "output_type": "stream",
     "text": [
      "/home/ej/github/cmpe255-project/cmpe255-project/lib/python3.6/site-packages/sklearn/impute/_iterative.py:599: ConvergenceWarning: [IterativeImputer] Early stopping criterion not reached.\n",
      "  \" reached.\", ConvergenceWarning)\n"
     ]
    }
   ],
   "source": [
    "mice_imputed_df = mice_imputation(df.values)"
   ]
  },
  {
   "cell_type": "markdown",
   "id": "53472d6e-11e6-4629-bb9a-d3b5199ff71d",
   "metadata": {},
   "source": [
    "# TODO\n",
    "1. Discretization\n",
    "2. after merging preprocessings\n",
    "    - Feature Selection\n",
    "    - Over or Undersampling of target\n",
    "3. Decision-tree based, Keras\n",
    "    - RandomForest, Gradient Boost\n",
    "    - DNN with dropout, batch normalization etc"
   ]
  },
  {
   "cell_type": "code",
   "execution_count": null,
   "id": "f47ed55d-26eb-4728-9b87-118b715c3bb9",
   "metadata": {},
   "outputs": [],
   "source": []
  }
 ],
 "metadata": {
  "kernelspec": {
   "display_name": "cmpe255-project",
   "language": "python",
   "name": "cmpe255-project"
  },
  "language_info": {
   "codemirror_mode": {
    "name": "ipython",
    "version": 3
   },
   "file_extension": ".py",
   "mimetype": "text/x-python",
   "name": "python",
   "nbconvert_exporter": "python",
   "pygments_lexer": "ipython3",
   "version": "3.6.9"
  }
 },
 "nbformat": 4,
 "nbformat_minor": 5
}
